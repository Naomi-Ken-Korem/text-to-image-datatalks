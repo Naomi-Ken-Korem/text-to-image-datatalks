{
  "cells": [
    {
      "cell_type": "markdown",
      "metadata": {
        "id": "view-in-github",
        "colab_type": "text"
      },
      "source": [
        "<a href=\"https://colab.research.google.com/github/Naomi-Ken-Korem/text-to-image-datatalks/blob/main/Glide_text2image.ipynb\" target=\"_parent\"><img src=\"https://colab.research.google.com/assets/colab-badge.svg\" alt=\"Open In Colab\"/></a>"
      ]
    },
    {
      "cell_type": "markdown",
      "source": [
        "# Glide -300M model \n",
        "\n",
        "## Text to image\n",
        "\n"
      ],
      "metadata": {
        "id": "iZVlxM70TAae"
      }
    },
    {
      "cell_type": "markdown",
      "source": [],
      "metadata": {
        "id": "8zUsukgO72mz"
      }
    },
    {
      "cell_type": "code",
      "source": [
        "!pip install git+https://github.com/openai/glide-text2im"
      ],
      "metadata": {
        "id": "rvFRQZByTApK"
      },
      "execution_count": null,
      "outputs": []
    },
    {
      "cell_type": "code",
      "execution_count": null,
      "metadata": {
        "id": "mKpUjUgBmyG9"
      },
      "outputs": [],
      "source": [
        "from PIL import Image\n",
        "from IPython.display import display\n",
        "import torch\n",
        "import numpy as np\n",
        "\n",
        "from glide_text2im.download import load_checkpoint\n",
        "from glide_text2im.model_creation import (\n",
        "    create_model_and_diffusion,\n",
        "    model_and_diffusion_defaults,\n",
        ")"
      ]
    },
    {
      "cell_type": "code",
      "execution_count": null,
      "metadata": {
        "id": "5wUOrf66myG-"
      },
      "outputs": [],
      "source": [
        "# This notebook supports both CPU and GPU.\n",
        "# On CPU, generating one sample may take on the order of 20 minutes.\n",
        "# On a GPU, it should be under a minute.\n",
        "\n",
        "has_cuda = torch.cuda.is_available()\n",
        "device = torch.device('cpu' if not has_cuda else 'cuda')"
      ]
    },
    {
      "cell_type": "markdown",
      "source": [
        "Now lets load glide 300 model"
      ],
      "metadata": {
        "id": "2qjsqBLsTOvO"
      }
    },
    {
      "cell_type": "code",
      "execution_count": null,
      "metadata": {
        "id": "M_rsH1LNmyG-"
      },
      "outputs": [],
      "source": [
        "# Create base model.\n",
        "options = model_and_diffusion_defaults()\n",
        "options['use_fp16'] = has_cuda\n",
        "options['timestep_respacing'] = '50' # use 100 diffusion steps for fast sampling\n",
        "model, diffusion = create_model_and_diffusion(**options)\n",
        "model.eval()\n",
        "if has_cuda:\n",
        "    model.convert_to_fp16()\n",
        "model.to(device)\n",
        "model.load_state_dict(load_checkpoint('base', device))\n"
      ]
    },
    {
      "cell_type": "markdown",
      "source": [
        "This model is called Glide 300M. Lets see the size of the model"
      ],
      "metadata": {
        "id": "GMCa8W6bQipe"
      }
    },
    {
      "cell_type": "code",
      "source": [
        "print('total base parameters', sum(x.numel() for x in model.parameters()))"
      ],
      "metadata": {
        "colab": {
          "base_uri": "https://localhost:8080/"
        },
        "id": "sChhxoZkQi39",
        "outputId": "d0d30f17-e7e8-47fc-d5d2-3d30ec593881"
      },
      "execution_count": null,
      "outputs": [
        {
          "output_type": "stream",
          "name": "stdout",
          "text": [
            "total base parameters 385030726\n"
          ]
        }
      ]
    },
    {
      "cell_type": "code",
      "execution_count": null,
      "metadata": {
        "id": "zjsoo17VmyG_"
      },
      "outputs": [],
      "source": [
        "def show_images(batch: torch.Tensor):\n",
        "    \"\"\" Display a batch of images inline. \"\"\"\n",
        "    scaled = ((batch + 1)*127.5).round().clamp(0,255).to(torch.uint8).cpu()\n",
        "    reshaped = scaled.permute(2, 0, 3, 1).reshape([batch.shape[2], -1, 3])\n",
        "    display(Image.fromarray(reshaped.numpy()).resize((256,256)))"
      ]
    },
    {
      "cell_type": "markdown",
      "source": [
        "### Sampling methods\n",
        "You can avoid this part ,but if you want to see in detailes how the iterative sampling works, check it out"
      ],
      "metadata": {
        "id": "RhjfdFgCZ-AQ"
      }
    },
    {
      "cell_type": "code",
      "source": [
        "from glide_text2im.gaussian_diffusion import _extract_into_tensor\n",
        "def p_mean_variance(self, model, x, t, clip_denoised=True, denoised_fn=None, model_kwargs=None):\n",
        "    \"\"\"\n",
        "    Apply the model to get p(x_{t-1} | x_t), as well as a prediction of\n",
        "    the initial x, x_0.\n",
        "    :param model: the model, which takes a signal and a batch of timesteps\n",
        "                  as input.\n",
        "    :param x: the [N x C x ...] tensor at time t.\n",
        "    :param t: a 1-D Tensor of timesteps.\n",
        "    :param clip_denoised: if True, clip the denoised signal into [-1, 1].\n",
        "    :param denoised_fn: if not None, a function which applies to the\n",
        "        x_start prediction before it is used to sample. Applies before\n",
        "        clip_denoised.\n",
        "    :param model_kwargs: if not None, a dict of extra keyword arguments to\n",
        "        pass to the model. This can be used for conditioning.\n",
        "    :return: a dict with the following keys:\n",
        "              - 'mean': the model mean output.\n",
        "              - 'variance': the model variance output.\n",
        "              - 'log_variance': the log of 'variance'.\n",
        "              - 'pred_xstart': the prediction for x_0.\n",
        "    \"\"\"\n",
        "    model = self._wrap_model(model) #respace diffusion steps\n",
        "    if model_kwargs is None:\n",
        "        model_kwargs = {}\n",
        "\n",
        "    B, C = x.shape[:2]\n",
        "    assert t.shape == (B,)\n",
        "    model_output = model(x, t, **model_kwargs)\n",
        "    if isinstance(model_output, tuple):\n",
        "        model_output, extra = model_output\n",
        "    else:\n",
        "        extra = None\n",
        "\n",
        "    assert model_output.shape == (B, C * 2, *x.shape[2:])\n",
        "    model_output, model_var_values = torch.split(model_output, C, dim=1)\n",
        "    min_log = _extract_into_tensor(self.posterior_log_variance_clipped, t, x.shape)\n",
        "    max_log = _extract_into_tensor(np.log(self.betas), t, x.shape)\n",
        "    # The model_var_values is [-1, 1] for [min_var, max_var].\n",
        "    frac = (model_var_values + 1) / 2\n",
        "    model_log_variance = frac * max_log + (1 - frac) * min_log\n",
        "    model_variance = torch.exp(model_log_variance)\n",
        "\n",
        "    def process_xstart(x):\n",
        "        if denoised_fn is not None:\n",
        "            x = denoised_fn(x)\n",
        "        if clip_denoised:\n",
        "            return x.clamp(-1, 1)\n",
        "        return x\n",
        "\n",
        "    pred_xstart = process_xstart(self._predict_xstart_from_eps(x_t=x, t=t, eps=model_output))\n",
        "    model_mean, _, _ = self.q_posterior_mean_variance(x_start=pred_xstart, x_t=x, t=t)\n",
        "\n",
        "    assert model_mean.shape == model_log_variance.shape == pred_xstart.shape == x.shape\n",
        "    return {\n",
        "        \"mean\": model_mean,\n",
        "        \"variance\": model_variance,\n",
        "        \"log_variance\": model_log_variance,\n",
        "        \"pred_xstart\": pred_xstart,\n",
        "        \"extra\": extra,\n",
        "    }\n",
        "\n",
        "def p_sample(\n",
        "    diffusion_model,\n",
        "    model,\n",
        "    x,\n",
        "    t,\n",
        "    clip_denoised=True,\n",
        "    denoised_fn=None,\n",
        "    cond_fn=None,\n",
        "    model_kwargs=None,\n",
        "):\n",
        "    \"\"\"\n",
        "    Sample x_{t-1} from the model at the given timestep.\n",
        "    :param model: the model to sample from.\n",
        "    :param x: the current tensor at x_{t-1}.\n",
        "    :param t: the value of t, starting at 0 for the first diffusion step.\n",
        "    :param clip_denoised: if True, clip the x_start prediction to [-1, 1].\n",
        "    :param denoised_fn: if not None, a function which applies to the\n",
        "        x_start prediction before it is used to sample.\n",
        "    :param cond_fn: if not None, this is a gradient function that acts\n",
        "                    similarly to the model.\n",
        "    :param model_kwargs: if not None, a dict of extra keyword arguments to\n",
        "        pass to the model. This can be used for conditioning.\n",
        "    :return: a dict containing the following keys:\n",
        "              - 'sample': a random sample from the model.\n",
        "              - 'pred_xstart': a prediction of x_0.\n",
        "    \"\"\"\n",
        "    out = p_mean_variance(\n",
        "        diffusion_model,\n",
        "        model,\n",
        "        x,\n",
        "        t,\n",
        "        clip_denoised=clip_denoised,\n",
        "        denoised_fn=denoised_fn,\n",
        "        model_kwargs=model_kwargs,\n",
        "    )\n",
        "    noise = torch.randn_like(x)\n",
        "    nonzero_mask = (\n",
        "        (t != 0).float().view(-1, *([1] * (len(x.shape) - 1)))\n",
        "    )  # no noise when t == 0\n",
        "    sample = out[\"mean\"] + nonzero_mask * torch.exp(0.5 * out[\"log_variance\"]) * noise\n",
        "    return {\"sample\": sample, \"pred_xstart\": out[\"pred_xstart\"]}\n",
        "\n",
        "def p_sample_loop(\n",
        "    diffusion_model,\n",
        "    model,\n",
        "    shape,\n",
        "    noise=None,\n",
        "    clip_denoised=True,\n",
        "    denoised_fn=None,\n",
        "    cond_fn=None,\n",
        "    model_kwargs=None,\n",
        "    device=None,\n",
        "    progress=False,\n",
        "):\n",
        "    \"\"\"\n",
        "    Generate samples from the model.\n",
        "    :param model: the model module.\n",
        "    :param shape: the shape of the samples, (N, C, H, W).\n",
        "    :param noise: if specified, the noise from the encoder to sample.\n",
        "                  Should be of the same shape as `shape`.\n",
        "    :param clip_denoised: if True, clip x_start predictions to [-1, 1].\n",
        "    :param denoised_fn: if not None, a function which applies to the\n",
        "        x_start prediction before it is used to sample.\n",
        "    :param cond_fn: if not None, this is a gradient function that acts\n",
        "                    similarly to the model.\n",
        "    :param model_kwargs: if not None, a dict of extra keyword arguments to\n",
        "        pass to the model. This can be used for conditioning.\n",
        "    :param device: if specified, the device to create the samples on.\n",
        "                    If not specified, use a model parameter's device.\n",
        "    :param progress: if True, show a tqdm progress bar.\n",
        "    :return: a non-differentiable batch of samples.\n",
        "    \"\"\"\n",
        "    final = None\n",
        "    for sample in p_sample_loop_progressive(\n",
        "        diffusion_model,\n",
        "        model,\n",
        "        shape,\n",
        "        noise=noise,\n",
        "        clip_denoised=clip_denoised,\n",
        "        denoised_fn=denoised_fn,\n",
        "        cond_fn=cond_fn,\n",
        "        model_kwargs=model_kwargs,\n",
        "        device=device,\n",
        "        progress=progress,\n",
        "    ):\n",
        "        final = sample\n",
        "    return final[\"sample\"]\n",
        "\n",
        "def p_sample_loop_progressive(\n",
        "    diffusion_model,\n",
        "    model,\n",
        "    shape,\n",
        "    noise=None,\n",
        "    clip_denoised=True,\n",
        "    denoised_fn=None,\n",
        "    cond_fn=None,\n",
        "    model_kwargs=None,\n",
        "    device=None,\n",
        "    progress=False,\n",
        "):\n",
        "    \"\"\"\n",
        "    Generate samples from the model and yield intermediate samples from\n",
        "    each timestep of diffusion.\n",
        "    Arguments are the same as p_sample_loop().\n",
        "    Returns a generator over dicts, where each dict is the return value of\n",
        "    p_sample().\n",
        "    \"\"\"\n",
        "    if device is None:\n",
        "        device = next(model.parameters()).device\n",
        "    assert isinstance(shape, (tuple, list))\n",
        "    if noise is not None:\n",
        "        img = noise\n",
        "    else:\n",
        "        img = torch.randn(*shape, device=device)\n",
        "    indices = list(range(diffusion_model.num_timesteps))[::-1]\n",
        "\n",
        "    if progress:\n",
        "        # Lazy import so that we don't depend on tqdm.\n",
        "        from tqdm.auto import tqdm\n",
        "\n",
        "        indices = tqdm(indices)\n",
        "\n",
        "    for i in indices:\n",
        "        t = torch.tensor([i] * shape[0], device=device)\n",
        "        with torch.no_grad():\n",
        "            out = p_sample(\n",
        "                diffusion_model,\n",
        "                model,\n",
        "                img,\n",
        "                t,\n",
        "                clip_denoised=clip_denoised,\n",
        "                denoised_fn=denoised_fn,\n",
        "                cond_fn=cond_fn,\n",
        "                model_kwargs=model_kwargs,\n",
        "            )\n",
        "            yield out\n",
        "            img = out[\"sample\"]"
      ],
      "metadata": {
        "id": "zQ7ahqSzXQX_"
      },
      "execution_count": null,
      "outputs": []
    },
    {
      "cell_type": "markdown",
      "source": [
        "### Now lets run the diffusion sampling process"
      ],
      "metadata": {
        "id": "dIG4gyX58AGe"
      }
    },
    {
      "cell_type": "code",
      "execution_count": null,
      "metadata": {
        "id": "iQWMBlufmyG_"
      },
      "outputs": [],
      "source": [
        "# You can try to set different prompts here\n",
        "prompt = \"an oil painting of a corgi\"\n",
        "\n",
        "batch_size = 1\n"
      ]
    },
    {
      "cell_type": "markdown",
      "source": [
        "Create the text tokens to feed to the model.\n",
        "Text prompts should be first tokanized, then it will go through attention modul inside glide model."
      ],
      "metadata": {
        "id": "Zvl_bbcCTy-s"
      }
    },
    {
      "cell_type": "code",
      "execution_count": null,
      "metadata": {
        "id": "q5ad9Ae8myG_",
        "colab": {
          "base_uri": "https://localhost:8080/",
          "height": 305,
          "referenced_widgets": [
            "a697ba61b4eb4e80a1feb17e1e6edd89",
            "6f00c1fe015a4e8fbd07afab040a822e",
            "a6e7d30bbb414696ab52a102f7081132",
            "496793f15cfc45d3a682765c3118945f",
            "e35024545b3c459abe8f5304e90a9b3d",
            "d8dc23c1769a454481c77ce045e557a3",
            "089ed1692ea04599876041465d9507e5",
            "cbe8c3da24d64471a62c1c28a3150702",
            "1f0ed0d65467443e94759d013eb698af",
            "5aff71b5cc2345749fce96b6da81ca1d",
            "41676c8ce87e48d3b2781fc76f25d2cc"
          ]
        },
        "outputId": "14a096df-7838-455c-81c7-8405ec59110d"
      },
      "outputs": [
        {
          "output_type": "display_data",
          "data": {
            "text/plain": [
              "  0%|          | 0/50 [00:00<?, ?it/s]"
            ],
            "application/vnd.jupyter.widget-view+json": {
              "version_major": 2,
              "version_minor": 0,
              "model_id": "a697ba61b4eb4e80a1feb17e1e6edd89"
            }
          },
          "metadata": {}
        },
        {
          "output_type": "display_data",
          "data": {
            "text/plain": [
              "<PIL.Image.Image image mode=RGB size=256x256 at 0x7F4432BD5210>"
            ],
            "image/png": "[encoded data removed]"
          },
          "metadata": {}
        }
      ],
      "source": [
        "tokens = model.tokenizer.encode(prompt)\n",
        "tokens, mask = model.tokenizer.padded_tokens_and_mask(\n",
        "    tokens, options['text_ctx']\n",
        ")\n",
        "\n",
        "\n",
        "# Pack the tokens together into model kwargs.\n",
        "model_kwargs = dict(\n",
        "    tokens=torch.tensor(\n",
        "        [tokens] * batch_size, device=device\n",
        "    ),\n",
        "    mask=torch.tensor(\n",
        "        [mask] * batch_size,\n",
        "        dtype=torch.bool,\n",
        "        device=device,\n",
        "    ),\n",
        ")\n",
        "\n",
        "\n",
        "# Sample from the base model.\n",
        "model.del_cache()\n",
        "samples = diffusion.p_sample_loop(\n",
        "    model,\n",
        "    (batch_size, 3, options[\"image_size\"], options[\"image_size\"]),\n",
        "    device=device,\n",
        "    clip_denoised=True,\n",
        "    progress=True,\n",
        "    model_kwargs=model_kwargs,\n",
        ")[:batch_size]\n",
        "model.del_cache()\n",
        "\n",
        "# Show the output\n",
        "show_images(samples)"
      ]
    },
    {
      "cell_type": "markdown",
      "source": [
        "### Class free guidance\n",
        "\n"
      ],
      "metadata": {
        "id": "SZqYhXXK8KIa"
      }
    },
    {
      "cell_type": "markdown",
      "source": [
        "This result is nice, but lets try to apply the class free gudiance trick.\n",
        "\n",
        "Try to do it yourself.\n",
        "\n",
        "On each diffusion steps, the model is applied twice, \n",
        "\n",
        "once given the original prompt $\\mathbf{x}_{prompt}$, \n",
        "\n",
        "and the second one with an empty prompt $\\mathbf{x}_{empty}$. \n",
        "\n",
        "\n",
        "The step result is updated to be: \n",
        "\n",
        "${x} = \\mathbf{x}_{empty} + guidance scale * (\\mathbf{x}_{prompt} - \\mathbf{x}_{empty})$\n",
        "   \n",
        "Note That the model can run only once on a batch consiting a sample with the text condition, and on a sample with an empty text condition"
      ],
      "metadata": {
        "id": "6VFBNEPMR80L"
      }
    },
    {
      "cell_type": "code",
      "source": [
        "guidance_scale = 5.0 #You can set different values here, to see what works better\n",
        "\n",
        "\n",
        "# propmt tokens already defined, now lets create the empty tokens:\n",
        "uncond_tokens, uncond_mask = model.tokenizer.padded_tokens_and_mask(\n",
        "    [], options['text_ctx']\n",
        ")\n"
      ],
      "metadata": {
        "id": "xAIIBkMFn0R8"
      },
      "execution_count": null,
      "outputs": []
    },
    {
      "cell_type": "code",
      "source": [
        "full_batch_size = batch_size * 2\n",
        "\n",
        "# Pack the tokens together into model kwargs.\n",
        "model_kwargs = dict(\n",
        "    tokens=torch.tensor(\n",
        "        [tokens] * batch_size + [uncond_tokens] * batch_size, device=device\n",
        "    ),\n",
        "    mask=torch.tensor(\n",
        "        [mask] * batch_size + [uncond_mask] * batch_size,\n",
        "        dtype=torch.bool,\n",
        "        device=device,\n",
        "    ),\n",
        ")"
      ],
      "metadata": {
        "id": "MKzr9EK1RUVW"
      },
      "execution_count": null,
      "outputs": []
    },
    {
      "cell_type": "markdown",
      "source": [
        "Lets overide the model.forward() with classifier_free_guidance_step that will apply the guidance trick:\n",
        "After each step of getting the model prediction on both conditions, the prompt, and the empty, we have to update the noise using the guidance scale:\n",
        "${x} = \\mathbf{x}_{empty} + guidance scale * (\\mathbf{x}_{prompt} - \\mathbf{x}_{empty})$"
      ],
      "metadata": {
        "id": "AeNDrWZ6SRmn"
      }
    },
    {
      "cell_type": "code",
      "source": [
        "# Create a classifier-free guidance sampling function\n",
        "def classifier_free_guidance_step(x_t, ts, **kwargs):\n",
        "    half = x_t[: len(x_t) // 2]\n",
        "    combined = torch.cat([half, half], dim=0)\n",
        "    model_out = model(combined, ts, **kwargs)\n",
        "    eps, rest = model_out[:, :3], model_out[:, 3:]\n",
        "    eps_prompt, eps_empty = torch.split(eps, len(eps) // 2, dim=0)\n",
        "    guided_eps = #your code goes here\n",
        "    eps = torch.cat([guided_eps, guided_eps], dim=0)\n",
        "    return torch.cat([eps, rest], dim=1)"
      ],
      "metadata": {
        "id": "7e0R9Y8eSQ0l"
      },
      "execution_count": null,
      "outputs": []
    },
    {
      "cell_type": "markdown",
      "source": [
        "Sample the result with the overrided function, instead of the original model:"
      ],
      "metadata": {
        "id": "8yLMRGReSbXU"
      }
    },
    {
      "cell_type": "code",
      "source": [
        "# Sample from the base model.\n",
        "model.del_cache()\n",
        "samples = diffusion.p_sample_loop(\n",
        "    classifier_free_guidance_step,\n",
        "    (full_batch_size, 3, options[\"image_size\"], options[\"image_size\"]),\n",
        "    device=device,\n",
        "    clip_denoised=True,\n",
        "    progress=True,\n",
        "    model_kwargs=model_kwargs,\n",
        "    cond_fn=None,\n",
        ")[:batch_size]\n",
        "model.del_cache()\n",
        "\n",
        "# Show the output\n",
        "show_images(samples)"
      ],
      "metadata": {
        "id": "8epRD0pVpzwY",
        "colab": {
          "base_uri": "https://localhost:8080/",
          "height": 305,
          "referenced_widgets": [
            "dd1d5426d8714ae3ae778452ad07494e",
            "7afd343431514de58e91c94a3eb0ed28",
            "26c5ac61b9224c0b98c5f03b4d9d1341",
            "4acae10915d7491eaa6073679ecc6bfa",
            "3a6c328f18b84244990a90ae24823a76",
            "d991a2166cea47f6b2780c2d44d5010a",
            "16afbae2b0a14cc7b11fe1cb11eb7245",
            "e6b27d1370f341ab867485ca5fa0169d",
            "4d7b031a3e7b4f53a61edd9a9d250d1e",
            "7bb0eb11e5f44ce89025330c4ec470db",
            "9c471255436d4a54aa76c7f0fab86dee"
          ]
        },
        "outputId": "847dd6a9-bc6d-4903-9417-f8dacf6ea205"
      },
      "execution_count": null,
      "outputs": [
        {
          "output_type": "display_data",
          "data": {
            "text/plain": [
              "  0%|          | 0/50 [00:00<?, ?it/s]"
            ],
            "application/vnd.jupyter.widget-view+json": {
              "version_major": 2,
              "version_minor": 0,
              "model_id": "dd1d5426d8714ae3ae778452ad07494e"
            }
          },
          "metadata": {}
        },
        {
          "output_type": "display_data",
          "data": {
            "text/plain": [
              "<PIL.Image.Image image mode=RGB size=256x256 at 0x7F443272F4D0>"
            ],
            "image/png": "[encoded data removed]"
          },
          "metadata": {}
        }
      ]
    },
    {
      "cell_type": "code",
      "source": [],
      "metadata": {
        "id": "DPbQ6Al7acfw"
      },
      "execution_count": null,
      "outputs": []
    }
  ],
  "metadata": {
    "interpreter": {
      "hash": "e7d6e62d90e7e85f9a0faa7f0b1d576302d7ae6108e9fe361594f8e1c8b05781"
    },
    "kernelspec": {
      "display_name": "Python 3",
      "language": "python",
      "name": "python3"
    },
    "language_info": {
      "codemirror_mode": {
        "name": "ipython",
        "version": 3
      },
      "file_extension": ".py",
      "mimetype": "text/x-python",
      "name": "python",
      "nbconvert_exporter": "python",
      "pygments_lexer": "ipython3",
      "version": "3.7.3"
    },
    "accelerator": "GPU",
    "colab": {
      "provenance": [],
      "collapsed_sections": [
        "RhjfdFgCZ-AQ"
      ],
      "include_colab_link": true
    },
    "widgets": {
      "application/vnd.jupyter.widget-state+json": {
        "a697ba61b4eb4e80a1feb17e1e6edd89": {
          "model_module": "@jupyter-widgets/controls",
          "model_name": "HBoxModel",
          "model_module_version": "1.5.0",
          "state": {
            "_dom_classes": [],
            "_model_module": "@jupyter-widgets/controls",
            "_model_module_version": "1.5.0",
            "_model_name": "HBoxModel",
            "_view_count": null,
            "_view_module": "@jupyter-widgets/controls",
            "_view_module_version": "1.5.0",
            "_view_name": "HBoxView",
            "box_style": "",
            "children": [
              "IPY_MODEL_6f00c1fe015a4e8fbd07afab040a822e",
              "IPY_MODEL_a6e7d30bbb414696ab52a102f7081132",
              "IPY_MODEL_496793f15cfc45d3a682765c3118945f"
            ],
            "layout": "IPY_MODEL_e35024545b3c459abe8f5304e90a9b3d"
          }
        },
        "6f00c1fe015a4e8fbd07afab040a822e": {
          "model_module": "@jupyter-widgets/controls",
          "model_name": "HTMLModel",
          "model_module_version": "1.5.0",
          "state": {
            "_dom_classes": [],
            "_model_module": "@jupyter-widgets/controls",
            "_model_module_version": "1.5.0",
            "_model_name": "HTMLModel",
            "_view_count": null,
            "_view_module": "@jupyter-widgets/controls",
            "_view_module_version": "1.5.0",
            "_view_name": "HTMLView",
            "description": "",
            "description_tooltip": null,
            "layout": "IPY_MODEL_d8dc23c1769a454481c77ce045e557a3",
            "placeholder": "​",
            "style": "IPY_MODEL_089ed1692ea04599876041465d9507e5",
            "value": "100%"
          }
        },
        "a6e7d30bbb414696ab52a102f7081132": {
          "model_module": "@jupyter-widgets/controls",
          "model_name": "FloatProgressModel",
          "model_module_version": "1.5.0",
          "state": {
            "_dom_classes": [],
            "_model_module": "@jupyter-widgets/controls",
            "_model_module_version": "1.5.0",
            "_model_name": "FloatProgressModel",
            "_view_count": null,
            "_view_module": "@jupyter-widgets/controls",
            "_view_module_version": "1.5.0",
            "_view_name": "ProgressView",
            "bar_style": "success",
            "description": "",
            "description_tooltip": null,
            "layout": "IPY_MODEL_cbe8c3da24d64471a62c1c28a3150702",
            "max": 50,
            "min": 0,
            "orientation": "horizontal",
            "style": "IPY_MODEL_1f0ed0d65467443e94759d013eb698af",
            "value": 50
          }
        },
        "496793f15cfc45d3a682765c3118945f": {
          "model_module": "@jupyter-widgets/controls",
          "model_name": "HTMLModel",
          "model_module_version": "1.5.0",
          "state": {
            "_dom_classes": [],
            "_model_module": "@jupyter-widgets/controls",
            "_model_module_version": "1.5.0",
            "_model_name": "HTMLModel",
            "_view_count": null,
            "_view_module": "@jupyter-widgets/controls",
            "_view_module_version": "1.5.0",
            "_view_name": "HTMLView",
            "description": "",
            "description_tooltip": null,
            "layout": "IPY_MODEL_5aff71b5cc2345749fce96b6da81ca1d",
            "placeholder": "​",
            "style": "IPY_MODEL_41676c8ce87e48d3b2781fc76f25d2cc",
            "value": " 50/50 [00:03&lt;00:00, 13.73it/s]"
          }
        },
        "e35024545b3c459abe8f5304e90a9b3d": {
          "model_module": "@jupyter-widgets/base",
          "model_name": "LayoutModel",
          "model_module_version": "1.2.0",
          "state": {
            "_model_module": "@jupyter-widgets/base",
            "_model_module_version": "1.2.0",
            "_model_name": "LayoutModel",
            "_view_count": null,
            "_view_module": "@jupyter-widgets/base",
            "_view_module_version": "1.2.0",
            "_view_name": "LayoutView",
            "align_content": null,
            "align_items": null,
            "align_self": null,
            "border": null,
            "bottom": null,
            "display": null,
            "flex": null,
            "flex_flow": null,
            "grid_area": null,
            "grid_auto_columns": null,
            "grid_auto_flow": null,
            "grid_auto_rows": null,
            "grid_column": null,
            "grid_gap": null,
            "grid_row": null,
            "grid_template_areas": null,
            "grid_template_columns": null,
            "grid_template_rows": null,
            "height": null,
            "justify_content": null,
            "justify_items": null,
            "left": null,
            "margin": null,
            "max_height": null,
            "max_width": null,
            "min_height": null,
            "min_width": null,
            "object_fit": null,
            "object_position": null,
            "order": null,
            "overflow": null,
            "overflow_x": null,
            "overflow_y": null,
            "padding": null,
            "right": null,
            "top": null,
            "visibility": null,
            "width": null
          }
        },
        "d8dc23c1769a454481c77ce045e557a3": {
          "model_module": "@jupyter-widgets/base",
          "model_name": "LayoutModel",
          "model_module_version": "1.2.0",
          "state": {
            "_model_module": "@jupyter-widgets/base",
            "_model_module_version": "1.2.0",
            "_model_name": "LayoutModel",
            "_view_count": null,
            "_view_module": "@jupyter-widgets/base",
            "_view_module_version": "1.2.0",
            "_view_name": "LayoutView",
            "align_content": null,
            "align_items": null,
            "align_self": null,
            "border": null,
            "bottom": null,
            "display": null,
            "flex": null,
            "flex_flow": null,
            "grid_area": null,
            "grid_auto_columns": null,
            "grid_auto_flow": null,
            "grid_auto_rows": null,
            "grid_column": null,
            "grid_gap": null,
            "grid_row": null,
            "grid_template_areas": null,
            "grid_template_columns": null,
            "grid_template_rows": null,
            "height": null,
            "justify_content": null,
            "justify_items": null,
            "left": null,
            "margin": null,
            "max_height": null,
            "max_width": null,
            "min_height": null,
            "min_width": null,
            "object_fit": null,
            "object_position": null,
            "order": null,
            "overflow": null,
            "overflow_x": null,
            "overflow_y": null,
            "padding": null,
            "right": null,
            "top": null,
            "visibility": null,
            "width": null
          }
        },
        "089ed1692ea04599876041465d9507e5": {
          "model_module": "@jupyter-widgets/controls",
          "model_name": "DescriptionStyleModel",
          "model_module_version": "1.5.0",
          "state": {
            "_model_module": "@jupyter-widgets/controls",
            "_model_module_version": "1.5.0",
            "_model_name": "DescriptionStyleModel",
            "_view_count": null,
            "_view_module": "@jupyter-widgets/base",
            "_view_module_version": "1.2.0",
            "_view_name": "StyleView",
            "description_width": ""
          }
        },
        "cbe8c3da24d64471a62c1c28a3150702": {
          "model_module": "@jupyter-widgets/base",
          "model_name": "LayoutModel",
          "model_module_version": "1.2.0",
          "state": {
            "_model_module": "@jupyter-widgets/base",
            "_model_module_version": "1.2.0",
            "_model_name": "LayoutModel",
            "_view_count": null,
            "_view_module": "@jupyter-widgets/base",
            "_view_module_version": "1.2.0",
            "_view_name": "LayoutView",
            "align_content": null,
            "align_items": null,
            "align_self": null,
            "border": null,
            "bottom": null,
            "display": null,
            "flex": null,
            "flex_flow": null,
            "grid_area": null,
            "grid_auto_columns": null,
            "grid_auto_flow": null,
            "grid_auto_rows": null,
            "grid_column": null,
            "grid_gap": null,
            "grid_row": null,
            "grid_template_areas": null,
            "grid_template_columns": null,
            "grid_template_rows": null,
            "height": null,
            "justify_content": null,
            "justify_items": null,
            "left": null,
            "margin": null,
            "max_height": null,
            "max_width": null,
            "min_height": null,
            "min_width": null,
            "object_fit": null,
            "object_position": null,
            "order": null,
            "overflow": null,
            "overflow_x": null,
            "overflow_y": null,
            "padding": null,
            "right": null,
            "top": null,
            "visibility": null,
            "width": null
          }
        },
        "1f0ed0d65467443e94759d013eb698af": {
          "model_module": "@jupyter-widgets/controls",
          "model_name": "ProgressStyleModel",
          "model_module_version": "1.5.0",
          "state": {
            "_model_module": "@jupyter-widgets/controls",
            "_model_module_version": "1.5.0",
            "_model_name": "ProgressStyleModel",
            "_view_count": null,
            "_view_module": "@jupyter-widgets/base",
            "_view_module_version": "1.2.0",
            "_view_name": "StyleView",
            "bar_color": null,
            "description_width": ""
          }
        },
        "5aff71b5cc2345749fce96b6da81ca1d": {
          "model_module": "@jupyter-widgets/base",
          "model_name": "LayoutModel",
          "model_module_version": "1.2.0",
          "state": {
            "_model_module": "@jupyter-widgets/base",
            "_model_module_version": "1.2.0",
            "_model_name": "LayoutModel",
            "_view_count": null,
            "_view_module": "@jupyter-widgets/base",
            "_view_module_version": "1.2.0",
            "_view_name": "LayoutView",
            "align_content": null,
            "align_items": null,
            "align_self": null,
            "border": null,
            "bottom": null,
            "display": null,
            "flex": null,
            "flex_flow": null,
            "grid_area": null,
            "grid_auto_columns": null,
            "grid_auto_flow": null,
            "grid_auto_rows": null,
            "grid_column": null,
            "grid_gap": null,
            "grid_row": null,
            "grid_template_areas": null,
            "grid_template_columns": null,
            "grid_template_rows": null,
            "height": null,
            "justify_content": null,
            "justify_items": null,
            "left": null,
            "margin": null,
            "max_height": null,
            "max_width": null,
            "min_height": null,
            "min_width": null,
            "object_fit": null,
            "object_position": null,
            "order": null,
            "overflow": null,
            "overflow_x": null,
            "overflow_y": null,
            "padding": null,
            "right": null,
            "top": null,
            "visibility": null,
            "width": null
          }
        },
        "41676c8ce87e48d3b2781fc76f25d2cc": {
          "model_module": "@jupyter-widgets/controls",
          "model_name": "DescriptionStyleModel",
          "model_module_version": "1.5.0",
          "state": {
            "_model_module": "@jupyter-widgets/controls",
            "_model_module_version": "1.5.0",
            "_model_name": "DescriptionStyleModel",
            "_view_count": null,
            "_view_module": "@jupyter-widgets/base",
            "_view_module_version": "1.2.0",
            "_view_name": "StyleView",
            "description_width": ""
          }
        },
        "dd1d5426d8714ae3ae778452ad07494e": {
          "model_module": "@jupyter-widgets/controls",
          "model_name": "HBoxModel",
          "model_module_version": "1.5.0",
          "state": {
            "_dom_classes": [],
            "_model_module": "@jupyter-widgets/controls",
            "_model_module_version": "1.5.0",
            "_model_name": "HBoxModel",
            "_view_count": null,
            "_view_module": "@jupyter-widgets/controls",
            "_view_module_version": "1.5.0",
            "_view_name": "HBoxView",
            "box_style": "",
            "children": [
              "IPY_MODEL_7afd343431514de58e91c94a3eb0ed28",
              "IPY_MODEL_26c5ac61b9224c0b98c5f03b4d9d1341",
              "IPY_MODEL_4acae10915d7491eaa6073679ecc6bfa"
            ],
            "layout": "IPY_MODEL_3a6c328f18b84244990a90ae24823a76"
          }
        },
        "7afd343431514de58e91c94a3eb0ed28": {
          "model_module": "@jupyter-widgets/controls",
          "model_name": "HTMLModel",
          "model_module_version": "1.5.0",
          "state": {
            "_dom_classes": [],
            "_model_module": "@jupyter-widgets/controls",
            "_model_module_version": "1.5.0",
            "_model_name": "HTMLModel",
            "_view_count": null,
            "_view_module": "@jupyter-widgets/controls",
            "_view_module_version": "1.5.0",
            "_view_name": "HTMLView",
            "description": "",
            "description_tooltip": null,
            "layout": "IPY_MODEL_d991a2166cea47f6b2780c2d44d5010a",
            "placeholder": "​",
            "style": "IPY_MODEL_16afbae2b0a14cc7b11fe1cb11eb7245",
            "value": "100%"
          }
        },
        "26c5ac61b9224c0b98c5f03b4d9d1341": {
          "model_module": "@jupyter-widgets/controls",
          "model_name": "FloatProgressModel",
          "model_module_version": "1.5.0",
          "state": {
            "_dom_classes": [],
            "_model_module": "@jupyter-widgets/controls",
            "_model_module_version": "1.5.0",
            "_model_name": "FloatProgressModel",
            "_view_count": null,
            "_view_module": "@jupyter-widgets/controls",
            "_view_module_version": "1.5.0",
            "_view_name": "ProgressView",
            "bar_style": "success",
            "description": "",
            "description_tooltip": null,
            "layout": "IPY_MODEL_e6b27d1370f341ab867485ca5fa0169d",
            "max": 50,
            "min": 0,
            "orientation": "horizontal",
            "style": "IPY_MODEL_4d7b031a3e7b4f53a61edd9a9d250d1e",
            "value": 50
          }
        },
        "4acae10915d7491eaa6073679ecc6bfa": {
          "model_module": "@jupyter-widgets/controls",
          "model_name": "HTMLModel",
          "model_module_version": "1.5.0",
          "state": {
            "_dom_classes": [],
            "_model_module": "@jupyter-widgets/controls",
            "_model_module_version": "1.5.0",
            "_model_name": "HTMLModel",
            "_view_count": null,
            "_view_module": "@jupyter-widgets/controls",
            "_view_module_version": "1.5.0",
            "_view_name": "HTMLView",
            "description": "",
            "description_tooltip": null,
            "layout": "IPY_MODEL_7bb0eb11e5f44ce89025330c4ec470db",
            "placeholder": "​",
            "style": "IPY_MODEL_9c471255436d4a54aa76c7f0fab86dee",
            "value": " 50/50 [00:10&lt;00:00, 11.74it/s]"
          }
        },
        "3a6c328f18b84244990a90ae24823a76": {
          "model_module": "@jupyter-widgets/base",
          "model_name": "LayoutModel",
          "model_module_version": "1.2.0",
          "state": {
            "_model_module": "@jupyter-widgets/base",
            "_model_module_version": "1.2.0",
            "_model_name": "LayoutModel",
            "_view_count": null,
            "_view_module": "@jupyter-widgets/base",
            "_view_module_version": "1.2.0",
            "_view_name": "LayoutView",
            "align_content": null,
            "align_items": null,
            "align_self": null,
            "border": null,
            "bottom": null,
            "display": null,
            "flex": null,
            "flex_flow": null,
            "grid_area": null,
            "grid_auto_columns": null,
            "grid_auto_flow": null,
            "grid_auto_rows": null,
            "grid_column": null,
            "grid_gap": null,
            "grid_row": null,
            "grid_template_areas": null,
            "grid_template_columns": null,
            "grid_template_rows": null,
            "height": null,
            "justify_content": null,
            "justify_items": null,
            "left": null,
            "margin": null,
            "max_height": null,
            "max_width": null,
            "min_height": null,
            "min_width": null,
            "object_fit": null,
            "object_position": null,
            "order": null,
            "overflow": null,
            "overflow_x": null,
            "overflow_y": null,
            "padding": null,
            "right": null,
            "top": null,
            "visibility": null,
            "width": null
          }
        },
        "d991a2166cea47f6b2780c2d44d5010a": {
          "model_module": "@jupyter-widgets/base",
          "model_name": "LayoutModel",
          "model_module_version": "1.2.0",
          "state": {
            "_model_module": "@jupyter-widgets/base",
            "_model_module_version": "1.2.0",
            "_model_name": "LayoutModel",
            "_view_count": null,
            "_view_module": "@jupyter-widgets/base",
            "_view_module_version": "1.2.0",
            "_view_name": "LayoutView",
            "align_content": null,
            "align_items": null,
            "align_self": null,
            "border": null,
            "bottom": null,
            "display": null,
            "flex": null,
            "flex_flow": null,
            "grid_area": null,
            "grid_auto_columns": null,
            "grid_auto_flow": null,
            "grid_auto_rows": null,
            "grid_column": null,
            "grid_gap": null,
            "grid_row": null,
            "grid_template_areas": null,
            "grid_template_columns": null,
            "grid_template_rows": null,
            "height": null,
            "justify_content": null,
            "justify_items": null,
            "left": null,
            "margin": null,
            "max_height": null,
            "max_width": null,
            "min_height": null,
            "min_width": null,
            "object_fit": null,
            "object_position": null,
            "order": null,
            "overflow": null,
            "overflow_x": null,
            "overflow_y": null,
            "padding": null,
            "right": null,
            "top": null,
            "visibility": null,
            "width": null
          }
        },
        "16afbae2b0a14cc7b11fe1cb11eb7245": {
          "model_module": "@jupyter-widgets/controls",
          "model_name": "DescriptionStyleModel",
          "model_module_version": "1.5.0",
          "state": {
            "_model_module": "@jupyter-widgets/controls",
            "_model_module_version": "1.5.0",
            "_model_name": "DescriptionStyleModel",
            "_view_count": null,
            "_view_module": "@jupyter-widgets/base",
            "_view_module_version": "1.2.0",
            "_view_name": "StyleView",
            "description_width": ""
          }
        },
        "e6b27d1370f341ab867485ca5fa0169d": {
          "model_module": "@jupyter-widgets/base",
          "model_name": "LayoutModel",
          "model_module_version": "1.2.0",
          "state": {
            "_model_module": "@jupyter-widgets/base",
            "_model_module_version": "1.2.0",
            "_model_name": "LayoutModel",
            "_view_count": null,
            "_view_module": "@jupyter-widgets/base",
            "_view_module_version": "1.2.0",
            "_view_name": "LayoutView",
            "align_content": null,
            "align_items": null,
            "align_self": null,
            "border": null,
            "bottom": null,
            "display": null,
            "flex": null,
            "flex_flow": null,
            "grid_area": null,
            "grid_auto_columns": null,
            "grid_auto_flow": null,
            "grid_auto_rows": null,
            "grid_column": null,
            "grid_gap": null,
            "grid_row": null,
            "grid_template_areas": null,
            "grid_template_columns": null,
            "grid_template_rows": null,
            "height": null,
            "justify_content": null,
            "justify_items": null,
            "left": null,
            "margin": null,
            "max_height": null,
            "max_width": null,
            "min_height": null,
            "min_width": null,
            "object_fit": null,
            "object_position": null,
            "order": null,
            "overflow": null,
            "overflow_x": null,
            "overflow_y": null,
            "padding": null,
            "right": null,
            "top": null,
            "visibility": null,
            "width": null
          }
        },
        "4d7b031a3e7b4f53a61edd9a9d250d1e": {
          "model_module": "@jupyter-widgets/controls",
          "model_name": "ProgressStyleModel",
          "model_module_version": "1.5.0",
          "state": {
            "_model_module": "@jupyter-widgets/controls",
            "_model_module_version": "1.5.0",
            "_model_name": "ProgressStyleModel",
            "_view_count": null,
            "_view_module": "@jupyter-widgets/base",
            "_view_module_version": "1.2.0",
            "_view_name": "StyleView",
            "bar_color": null,
            "description_width": ""
          }
        },
        "7bb0eb11e5f44ce89025330c4ec470db": {
          "model_module": "@jupyter-widgets/base",
          "model_name": "LayoutModel",
          "model_module_version": "1.2.0",
          "state": {
            "_model_module": "@jupyter-widgets/base",
            "_model_module_version": "1.2.0",
            "_model_name": "LayoutModel",
            "_view_count": null,
            "_view_module": "@jupyter-widgets/base",
            "_view_module_version": "1.2.0",
            "_view_name": "LayoutView",
            "align_content": null,
            "align_items": null,
            "align_self": null,
            "border": null,
            "bottom": null,
            "display": null,
            "flex": null,
            "flex_flow": null,
            "grid_area": null,
            "grid_auto_columns": null,
            "grid_auto_flow": null,
            "grid_auto_rows": null,
            "grid_column": null,
            "grid_gap": null,
            "grid_row": null,
            "grid_template_areas": null,
            "grid_template_columns": null,
            "grid_template_rows": null,
            "height": null,
            "justify_content": null,
            "justify_items": null,
            "left": null,
            "margin": null,
            "max_height": null,
            "max_width": null,
            "min_height": null,
            "min_width": null,
            "object_fit": null,
            "object_position": null,
            "order": null,
            "overflow": null,
            "overflow_x": null,
            "overflow_y": null,
            "padding": null,
            "right": null,
            "top": null,
            "visibility": null,
            "width": null
          }
        },
        "9c471255436d4a54aa76c7f0fab86dee": {
          "model_module": "@jupyter-widgets/controls",
          "model_name": "DescriptionStyleModel",
          "model_module_version": "1.5.0",
          "state": {
            "_model_module": "@jupyter-widgets/controls",
            "_model_module_version": "1.5.0",
            "_model_name": "DescriptionStyleModel",
            "_view_count": null,
            "_view_module": "@jupyter-widgets/base",
            "_view_module_version": "1.2.0",
            "_view_name": "StyleView",
            "description_width": ""
          }
        }
      }
    }
  },
  "nbformat": 4,
  "nbformat_minor": 0
}